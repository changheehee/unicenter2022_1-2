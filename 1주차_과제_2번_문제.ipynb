{
  "nbformat": 4,
  "nbformat_minor": 0,
  "metadata": {
    "colab": {
      "name": "1주차 과제/ 2번 문제",
      "provenance": [],
      "authorship_tag": "ABX9TyNbkH8ougJc3vhtOK1ekaKk",
      "include_colab_link": true
    },
    "kernelspec": {
      "name": "python3",
      "display_name": "Python 3"
    },
    "language_info": {
      "name": "python"
    }
  },
  "cells": [
    {
      "cell_type": "markdown",
      "metadata": {
        "id": "view-in-github",
        "colab_type": "text"
      },
      "source": [
        "<a href=\"https://colab.research.google.com/github/changheehee/unicenter2022_1-2/blob/%EC%88%98%EC%97%85/1%EC%A3%BC%EC%B0%A8_%EA%B3%BC%EC%A0%9C_2%EB%B2%88_%EB%AC%B8%EC%A0%9C.ipynb\" target=\"_parent\"><img src=\"https://colab.research.google.com/assets/colab-badge.svg\" alt=\"Open In Colab\"/></a>"
      ]
    },
    {
      "cell_type": "code",
      "execution_count": null,
      "metadata": {
        "colab": {
          "base_uri": "https://localhost:8080/"
        },
        "id": "eNr0VGn6g4Gi",
        "outputId": "7a5576ff-065e-4a0c-9088-94f476706e66"
      },
      "outputs": [
        {
          "output_type": "stream",
          "name": "stdout",
          "text": [
            "TTTTTTTTTT\n",
            "TTTTTTTTTT\n",
            "    TT\n",
            "    TT\n",
            "    TT\n"
          ]
        }
      ],
      "source": [
        "print ('''TTTTTTTTTT\n",
        "TTTTTTTTTT\n",
        "    TT\n",
        "    TT\n",
        "    TT''')"
      ]
    },
    {
      "cell_type": "code",
      "source": [
        "print(\"TTTTTTTTTT\\nTTTTTTTTTT\\n\",end=\"    \");print(\"TT\\n\", end=\"    \");print(\"TT\\n\", end=\"    \");print(\"TT\\n\", end=\"    \")\n"
      ],
      "metadata": {
        "id": "OgJIXcnCPdAq",
        "outputId": "014cb3e8-fe36-4505-85d0-8efc0e3ab472",
        "colab": {
          "base_uri": "https://localhost:8080/"
        }
      },
      "execution_count": null,
      "outputs": [
        {
          "output_type": "stream",
          "name": "stdout",
          "text": [
            "TTTTTTTTTT\n",
            "TTTTTTTTTT\n",
            "    TT\n",
            "    TT\n",
            "    TT\n",
            "    "
          ]
        }
      ]
    },
    {
      "cell_type": "code",
      "source": [
        ""
      ],
      "metadata": {
        "id": "05UDz6_qPeSR"
      },
      "execution_count": null,
      "outputs": []
    }
  ]
}