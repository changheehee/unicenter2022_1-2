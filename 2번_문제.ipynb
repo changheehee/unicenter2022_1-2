{
  "nbformat": 4,
  "nbformat_minor": 0,
  "metadata": {
    "colab": {
      "name": "2번 문제",
      "provenance": [],
      "collapsed_sections": [],
      "authorship_tag": "ABX9TyMR5NIKmG1KAc6YO7kftGvC",
      "include_colab_link": true
    },
    "kernelspec": {
      "name": "python3",
      "display_name": "Python 3"
    },
    "language_info": {
      "name": "python"
    }
  },
  "cells": [
    {
      "cell_type": "markdown",
      "metadata": {
        "id": "view-in-github",
        "colab_type": "text"
      },
      "source": [
        "<a href=\"https://colab.research.google.com/github/changheehee/unicenter2022_1-2/blob/main/2%EB%B2%88_%EB%AC%B8%EC%A0%9C.ipynb\" target=\"_parent\"><img src=\"https://colab.research.google.com/assets/colab-badge.svg\" alt=\"Open In Colab\"/></a>"
      ]
    },
    {
      "cell_type": "code",
      "execution_count": 2,
      "metadata": {
        "colab": {
          "base_uri": "https://localhost:8080/"
        },
        "id": "eNr0VGn6g4Gi",
        "outputId": "cf101b88-c318-4e17-dc51-e2d4f54867b9"
      },
      "outputs": [
        {
          "output_type": "stream",
          "name": "stdout",
          "text": [
            "TTTTTTTTTT\n",
            "TTTTTTTTTT\n",
            "    TT\n",
            "    TT\n",
            "    TT\n"
          ]
        }
      ],
      "source": [
        "#1번 방법\n",
        "\n",
        "print ('''TTTTTTTTTT\n",
        "TTTTTTTTTT\n",
        "    TT\n",
        "    TT\n",
        "    TT''')"
      ]
    },
    {
      "cell_type": "code",
      "source": [
        "#2번 방법\n",
        "\n",
        "print(\"TTTTTTTTTT\\nTTTTTTTTTT\\n\",end=\"    \");print(\"TT\\n\", end=\"    \");print(\"TT\\n\", end=\"    \");print(\"TT\\n\", end=\"    \")"
      ],
      "metadata": {
        "id": "OgJIXcnCPdAq",
        "outputId": "014cb3e8-fe36-4505-85d0-8efc0e3ab472",
        "colab": {
          "base_uri": "https://localhost:8080/"
        }
      },
      "execution_count": null,
      "outputs": [
        {
          "output_type": "stream",
          "name": "stdout",
          "text": [
            "TTTTTTTTTT\n",
            "TTTTTTTTTT\n",
            "    TT\n",
            "    TT\n",
            "    TT\n",
            "    "
          ]
        }
      ]
    }
  ]
}