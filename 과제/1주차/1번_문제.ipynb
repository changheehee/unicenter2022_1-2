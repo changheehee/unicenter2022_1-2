{
  "nbformat": 4,
  "nbformat_minor": 0,
  "metadata": {
    "colab": {
      "name": "1번 문제",
      "provenance": [],
      "collapsed_sections": []
    },
    "kernelspec": {
      "name": "python3",
      "display_name": "Python 3"
    },
    "language_info": {
      "name": "python"
    }
  },
  "cells": [
    {
      "cell_type": "code",
      "execution_count": null,
      "metadata": {
        "colab": {
          "base_uri": "https://localhost:8080/"
        },
        "id": "BfCPgUxROHJW",
        "outputId": "cb6d51ee-782c-4d57-95e2-71fd40e99229"
      },
      "outputs": [
        {
          "output_type": "stream",
          "name": "stdout",
          "text": [
            "kor 90\n",
            "mat 80\n",
            "eng 100\n",
            "sum 270\n",
            "avg 90\n"
          ]
        }
      ],
      "source": [
        "a = 170\n",
        "b = 100\n",
        "c = 80\n",
        "print (\"kor 90\\nmat 80\\neng 100\\n\"+\"sum\",str(a+b)+\"\\n\"+\"avg\",int((b+c)/2))\n"
      ]
    }
  ]
}