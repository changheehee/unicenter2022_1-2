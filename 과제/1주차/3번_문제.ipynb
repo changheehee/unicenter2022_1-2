{
  "nbformat": 4,
  "nbformat_minor": 0,
  "metadata": {
    "colab": {
      "name": "3번 문제",
      "provenance": [],
      "collapsed_sections": []
    },
    "kernelspec": {
      "name": "python3",
      "display_name": "Python 3"
    },
    "language_info": {
      "name": "python"
    }
  },
  "cells": [
    {
      "cell_type": "code",
      "execution_count": null,
      "metadata": {
        "colab": {
          "base_uri": "https://localhost:8080/"
        },
        "id": "oIZ6CqcsZE4Z",
        "outputId": "e057784c-28a8-4a69-d509-bed0d7f3189e"
      },
      "outputs": [
        {
          "output_type": "stream",
          "name": "stdout",
          "text": [
            "10+20=30\n"
          ]
        }
      ],
      "source": [
        "a = 10; b = 20; c = 30\n",
        "print(str(a)+\"+\"+str(b)+\"=\"+str(c))"
      ]
    }
  ]
}