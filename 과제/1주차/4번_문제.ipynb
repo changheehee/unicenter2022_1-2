{
  "nbformat": 4,
  "nbformat_minor": 0,
  "metadata": {
    "colab": {
      "name": "4번 문제",
      "provenance": [],
      "collapsed_sections": []
    },
    "kernelspec": {
      "name": "python3",
      "display_name": "Python 3"
    },
    "language_info": {
      "name": "python"
    }
  },
  "cells": [
    {
      "cell_type": "code",
      "execution_count": 23,
      "metadata": {
        "colab": {
          "base_uri": "https://localhost:8080/"
        },
        "id": "twWI4vNJSYQm",
        "outputId": "2697f07f-9a0f-42ff-d3c0-a06e07bc1921"
      },
      "outputs": [
        {
          "output_type": "stream",
          "name": "stdout",
          "text": [
            "20 50 100\n",
            "sum 170\n",
            "avg 56\n"
          ]
        }
      ],
      "source": [
        "a = list(map(int, input().split()))\n",
        "print(\"sum\",a[0]+a[1]+a[2])\n",
        "print(\"avg\",int((a[0]+a[1]+a[2])/3))"
      ]
    }
  ]
}