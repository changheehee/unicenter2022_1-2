{
  "nbformat": 4,
  "nbformat_minor": 0,
  "metadata": {
    "colab": {
      "name": "5번 문제",
      "provenance": [],
      "collapsed_sections": []
    },
    "kernelspec": {
      "name": "python3",
      "display_name": "Python 3"
    },
    "language_info": {
      "name": "python"
    }
  },
  "cells": [
    {
      "cell_type": "code",
      "execution_count": null,
      "metadata": {
        "id": "aMI7P7tGPOuR",
        "colab": {
          "base_uri": "https://localhost:8080/"
        },
        "outputId": "7a60ffdf-668f-4816-d310-059913252fb4"
      },
      "outputs": [
        {
          "output_type": "stream",
          "name": "stdout",
          "text": [
            "Yard? 10.1\n",
            "10.1yard = 923.5cm\n"
          ]
        }
      ],
      "source": [
        "a = input(\"Yard? \")\n",
        "b = float(a)\n",
        "print(str(a)+\"yard\",\"=\",str(round(b*91.44,1))+\"cm\")"
      ]
    }
  ]
}