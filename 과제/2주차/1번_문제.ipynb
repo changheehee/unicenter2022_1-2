{
  "nbformat": 4,
  "nbformat_minor": 0,
  "metadata": {
    "colab": {
      "name": "1번 문제",
      "provenance": [],
      "collapsed_sections": []
    },
    "kernelspec": {
      "name": "python3",
      "display_name": "Python 3"
    },
    "language_info": {
      "name": "python"
    }
  },
  "cells": [
    {
      "cell_type": "code",
      "execution_count": 1,
      "metadata": {
        "colab": {
          "base_uri": "https://localhost:8080/"
        },
        "id": "Bmtzh1o3TjXX",
        "outputId": "cfeef83a-fc16-41f1-e039-439b46523947"
      },
      "outputs": [
        {
          "output_type": "stream",
          "name": "stdout",
          "text": [
            "4 5\n",
            "4 > 5  ---  0\n",
            "4 < 5  ---  1\n",
            "4 >= 5  ---  0\n",
            "4 <= 5  ---  1\n"
          ]
        }
      ],
      "source": [
        "value = list(map(int, input().split()))\n",
        "\n",
        "# A > B\n",
        "if value[0] > value[1]:\n",
        "  print(value[0],\">\",value[1],\" --- \",int(True))\n",
        "else:\n",
        "  print(value[0],\">\",value[1],\" --- \",int(False));\n",
        "\n",
        "# A < B\n",
        "if value[0] < value[1]:\n",
        "  print(value[0],\"<\",value[1],\" --- \",int(True))\n",
        "else:\n",
        "  print(value[0],\"<\",value[1],\" --- \",int(False));\n",
        "\n",
        "# A >= B\n",
        "if value[0] >= value[1]:\n",
        "  print(value[0],\">=\",value[1],\" --- \",int(True))\n",
        "else:\n",
        "  print(value[0],\">=\",value[1],\" --- \",int(False));\n",
        "\n",
        "# A <= B\n",
        "if value[0] <= value[1]:\n",
        "  print(value[0],\"<=\",value[1],\" --- \",int(True))\n",
        "else:\n",
        "  print(value[0],\"<=\",value[1],\" --- \",int(False));"
      ]
    }
  ]
}