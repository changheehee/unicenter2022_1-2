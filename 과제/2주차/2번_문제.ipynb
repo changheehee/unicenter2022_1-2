{
  "nbformat": 4,
  "nbformat_minor": 0,
  "metadata": {
    "colab": {
      "name": "2번 문제",
      "provenance": [],
      "collapsed_sections": []
    },
    "kernelspec": {
      "name": "python3",
      "display_name": "Python 3"
    },
    "language_info": {
      "name": "python"
    }
  },
  "cells": [
    {
      "cell_type": "code",
      "execution_count": 1,
      "metadata": {
        "colab": {
          "base_uri": "https://localhost:8080/"
        },
        "id": "SP3WRK4-J2Pv",
        "outputId": "6644cff3-ed42-4907-c77c-93a1e5c1cac4"
      },
      "outputs": [
        {
          "output_type": "stream",
          "name": "stdout",
          "text": [
            "10 9 9\n",
            "1 0\n"
          ]
        }
      ],
      "source": [
        "user = list(map(int, input().split()))\n",
        "\n",
        "if user[0]> user[1] and user[0]> user[2]:\n",
        "  print(int(True),end=\" \")\n",
        "else:\n",
        "  print(int(False),end=\" \");\n",
        "\n",
        "if user[0] == user[1] == user[2]:\n",
        "  print(int(True))\n",
        "else:\n",
        "  print(int(False));"
      ]
    }
  ]
}