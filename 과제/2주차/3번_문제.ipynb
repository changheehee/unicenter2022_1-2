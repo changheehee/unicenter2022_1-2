{
  "nbformat": 4,
  "nbformat_minor": 0,
  "metadata": {
    "colab": {
      "name": "3번 문제",
      "provenance": [],
      "collapsed_sections": []
    },
    "kernelspec": {
      "name": "python3",
      "display_name": "Python 3"
    },
    "language_info": {
      "name": "python"
    }
  },
  "cells": [
    {
      "cell_type": "code",
      "execution_count": null,
      "metadata": {
        "colab": {
          "base_uri": "https://localhost:8080/"
        },
        "id": "3A0cvGwY1On6",
        "outputId": "b4e8e9ab-8c87-42fb-a4c4-3cbea6a7e2dd"
      },
      "outputs": [
        {
          "output_type": "stream",
          "name": "stdout",
          "text": [
            "10\n",
            "20\n",
            "11 19 209\n"
          ]
        }
      ],
      "source": [
        "value1 = int(input())\n",
        "value2 = int(input())\n",
        "\n",
        "value1 += 1\n",
        "value2 -= 1\n",
        "multiply = value1 * value2\n",
        "\n",
        "print(value1,value2,multiply)"
      ]
    }
  ]
}