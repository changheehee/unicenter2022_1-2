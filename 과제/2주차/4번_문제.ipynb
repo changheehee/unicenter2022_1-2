{
  "nbformat": 4,
  "nbformat_minor": 0,
  "metadata": {
    "colab": {
      "name": "4번 문제",
      "provenance": [],
      "collapsed_sections": []
    },
    "kernelspec": {
      "name": "python3",
      "display_name": "Python 3"
    },
    "language_info": {
      "name": "python"
    }
  },
  "cells": [
    {
      "cell_type": "code",
      "execution_count": null,
      "metadata": {
        "colab": {
          "base_uri": "https://localhost:8080/"
        },
        "id": "oyGZG1eNwhjE",
        "outputId": "21fd5087-54b7-4e45-8685-93340e1bc15a"
      },
      "outputs": [
        {
          "output_type": "stream",
          "name": "stdout",
          "text": [
            "150 35\n",
            "145 35\n",
            "0\n"
          ]
        }
      ],
      "source": [
        "minsu_HeightAndWeight = list(map(int, input().split()))\n",
        "kiyoung_HeightAndWeight = list(map(int, input().split()))\n",
        "\n",
        "if minsu_HeightAndWeight[0] > kiyoung_HeightAndWeight[0] and minsu_HeightAndWeight[1] > kiyoung_HeightAndWeight[1]:\n",
        "  print(int(True))\n",
        "else:\n",
        "  print(int(False))"
      ]
    }
  ]
}