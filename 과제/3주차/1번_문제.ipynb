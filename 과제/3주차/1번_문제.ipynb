{
  "nbformat": 4,
  "nbformat_minor": 0,
  "metadata": {
    "colab": {
      "name": "1번 문제",
      "provenance": [],
      "collapsed_sections": []
    },
    "kernelspec": {
      "name": "python3",
      "display_name": "Python 3"
    },
    "language_info": {
      "name": "python"
    }
  },
  "cells": [
    {
      "cell_type": "code",
      "execution_count": null,
      "metadata": {
        "colab": {
          "base_uri": "https://localhost:8080/"
        },
        "id": "ChY_wUkDcecZ",
        "outputId": "1235a33e-e011-4747-85b9-6d70604c7be8"
      },
      "outputs": [
        {
          "output_type": "stream",
          "name": "stdout",
          "text": [
            "-2\n",
            "minus\n"
          ]
        }
      ],
      "source": [
        "value = int(input())\n",
        "\n",
        "if value == 0:\n",
        "  print('zero')\n",
        "else:\n",
        "  if (value / abs(value)) * -1 == 1:\n",
        "    print(\"minus\")\n",
        "  else:\n",
        "    print(\"plus\")"
      ]
    }
  ]
}