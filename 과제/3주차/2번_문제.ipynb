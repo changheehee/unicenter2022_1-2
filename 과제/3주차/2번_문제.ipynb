{
  "nbformat": 4,
  "nbformat_minor": 0,
  "metadata": {
    "colab": {
      "name": "2번 문제",
      "provenance": [],
      "collapsed_sections": []
    },
    "kernelspec": {
      "name": "python3",
      "display_name": "Python 3"
    },
    "language_info": {
      "name": "python"
    }
  },
  "cells": [
    {
      "cell_type": "code",
      "execution_count": null,
      "metadata": {
        "colab": {
          "base_uri": "https://localhost:8080/"
        },
        "id": "m2JLFl-XhRvn",
        "outputId": "66d4db82-9da1-4b64-c887-267fedd977d2"
      },
      "outputs": [
        {
          "output_type": "stream",
          "name": "stdout",
          "text": [
            "A\n",
            "Excellent\n"
          ]
        }
      ],
      "source": [
        "value = input()\n",
        "\n",
        "if value == 'A':\n",
        "  print('Excellent')\n",
        "elif value == 'B':\n",
        "  print('Good')\n",
        "elif value == 'C':\n",
        "  print('Usually')\n",
        "elif value == 'D':\n",
        "  print('Effort')\n",
        "elif value == 'F':\n",
        "  print('Failure')\n",
        "else:\n",
        "  print('error')"
      ]
    }
  ]
}