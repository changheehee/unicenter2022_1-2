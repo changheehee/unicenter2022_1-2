{
  "nbformat": 4,
  "nbformat_minor": 0,
  "metadata": {
    "colab": {
      "name": "3번 문제",
      "provenance": [],
      "collapsed_sections": []
    },
    "kernelspec": {
      "name": "python3",
      "display_name": "Python 3"
    },
    "language_info": {
      "name": "python"
    }
  },
  "cells": [
    {
      "cell_type": "code",
      "execution_count": null,
      "metadata": {
        "colab": {
          "base_uri": "https://localhost:8080/"
        },
        "id": "AhCB1dd3Oxc9",
        "outputId": "dc60c386-6091-4459-fefe-33efc3b0acaa"
      },
      "outputs": [
        {
          "output_type": "stream",
          "name": "stdout",
          "text": [
            "Number? 2\n",
            "cat\n"
          ]
        }
      ],
      "source": [
        "value = int(input('Number? '))\n",
        "\n",
        "dog = 1\n",
        "cat = 2\n",
        "chick = 3\n",
        "\n",
        "if value == dog:\n",
        "  print(\"dog\")\n",
        "elif value == cat:\n",
        "  print(\"cat\")\n",
        "elif value == chick:\n",
        "  print(\"chick\")\n",
        "else:\n",
        "  print(\"I don't know.\")"
      ]
    }
  ]
}