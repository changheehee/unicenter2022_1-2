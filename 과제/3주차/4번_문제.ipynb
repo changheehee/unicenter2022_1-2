{
  "nbformat": 4,
  "nbformat_minor": 0,
  "metadata": {
    "colab": {
      "name": "4번 문제",
      "provenance": [],
      "collapsed_sections": []
    },
    "kernelspec": {
      "name": "python3",
      "display_name": "Python 3"
    },
    "language_info": {
      "name": "python"
    }
  },
  "cells": [
    {
      "cell_type": "code",
      "execution_count": null,
      "metadata": {
        "colab": {
          "base_uri": "https://localhost:8080/"
        },
        "id": "sV8E2TlN7ZSR",
        "outputId": "a7dd23e7-07a3-47fb-8eeb-4994bbbec0eb"
      },
      "outputs": [
        {
          "output_type": "stream",
          "name": "stdout",
          "text": [
            "3\n",
            "31\n"
          ]
        }
      ],
      "source": [
        "value = int(input())\n",
        "\n",
        "if value == 1 or value == 3 or value == 5 or value == 7 or value == 8 or value == 10 or value == 12:\n",
        "  print(\"31\")\n",
        "else:\n",
        "  if value == 2:\n",
        "    print(\"28\")\n",
        "  else:\n",
        "    print(\"30\")"
      ]
    }
  ]
}