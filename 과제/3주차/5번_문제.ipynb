{
  "nbformat": 4,
  "nbformat_minor": 0,
  "metadata": {
    "colab": {
      "name": "5번 문제",
      "provenance": [],
      "collapsed_sections": []
    },
    "kernelspec": {
      "name": "python3",
      "display_name": "Python 3"
    },
    "language_info": {
      "name": "python"
    }
  },
  "cells": [
    {
      "cell_type": "code",
      "execution_count": null,
      "metadata": {
        "id": "Mhp_3Sf__vvK",
        "colab": {
          "base_uri": "https://localhost:8080/"
        },
        "outputId": "8c928722-423c-490c-8b62-ffcb7c8b57c1"
      },
      "outputs": [
        {
          "output_type": "stream",
          "name": "stdout",
          "text": [
            "F\n",
            "10\n",
            "Girl\n"
          ]
        }
      ],
      "source": [
        "male = 'M'\n",
        "female = 'F'\n",
        "\n",
        "sex = input()\n",
        "age = int(input())\n",
        "\n",
        "if sex == 'M' and age >= 18:\n",
        "  print(\"Man\")\n",
        "elif sex == 'M':\n",
        "  print(\"Boy\")\n",
        "else:\n",
        "  if sex == 'F' and age >= 18:\n",
        "    print('Woman')\n",
        "  elif sex == 'F':\n",
        "    print('Girl')"
      ]
    }
  ]
}