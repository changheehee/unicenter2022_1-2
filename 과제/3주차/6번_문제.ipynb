{
  "nbformat": 4,
  "nbformat_minor": 0,
  "metadata": {
    "colab": {
      "name": "6번 문제",
      "provenance": [],
      "collapsed_sections": []
    },
    "kernelspec": {
      "name": "python3",
      "display_name": "Python 3"
    },
    "language_info": {
      "name": "python"
    }
  },
  "cells": [
    {
      "cell_type": "code",
      "execution_count": null,
      "metadata": {
        "id": "WUyeBjbSW_SA",
        "colab": {
          "base_uri": "https://localhost:8080/"
        },
        "outputId": "b079585d-8d9b-4c72-d06f-b74670917e34"
      },
      "outputs": [
        {
          "output_type": "stream",
          "name": "stdout",
          "text": [
            "2003\n",
            "common year\n"
          ]
        }
      ],
      "source": [
        "user = int(input())\n",
        "\n",
        "if user % 4 == 0 and user % 100 != 0 or user % 400 == 0:\n",
        "  print(\"leap year\")\n",
        "elif user % 100 == 0:\n",
        "  print (\"common year\")\n",
        "else:\n",
        "  print (\"common year\")"
      ]
    }
  ]
}