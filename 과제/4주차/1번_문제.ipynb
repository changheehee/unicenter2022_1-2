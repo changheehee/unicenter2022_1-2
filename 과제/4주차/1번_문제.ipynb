{
  "nbformat": 4,
  "nbformat_minor": 0,
  "metadata": {
    "colab": {
      "name": "1번 문제",
      "provenance": [],
      "collapsed_sections": []
    },
    "kernelspec": {
      "name": "python3",
      "display_name": "Python 3"
    },
    "language_info": {
      "name": "python"
    }
  },
  "cells": [
    {
      "cell_type": "code",
      "execution_count": null,
      "metadata": {
        "colab": {
          "base_uri": "https://localhost:8080/"
        },
        "id": "l3JKFFxFR1cR",
        "outputId": "0f6d2ce2-c862-421c-b4b3-78836c6003fa"
      },
      "outputs": [
        {
          "output_type": "stream",
          "name": "stdout",
          "text": [
            "99\n",
            "4950\n"
          ]
        }
      ],
      "source": [
        "i = 0\n",
        "sum = 0\n",
        "max = int(input())\n",
        "\n",
        "if max <= 100 and max > -1:\n",
        "  while i < max:\n",
        "    i += 1\n",
        "    sum += i\n",
        "\n",
        "print(sum)"
      ]
    }
  ]
}