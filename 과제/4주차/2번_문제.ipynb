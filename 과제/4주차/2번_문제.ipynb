{
  "nbformat": 4,
  "nbformat_minor": 0,
  "metadata": {
    "colab": {
      "name": "2번 문제",
      "provenance": [],
      "collapsed_sections": []
    },
    "kernelspec": {
      "name": "python3",
      "display_name": "Python 3"
    },
    "language_info": {
      "name": "python"
    }
  },
  "cells": [
    {
      "cell_type": "code",
      "execution_count": null,
      "metadata": {
        "colab": {
          "base_uri": "https://localhost:8080/"
        },
        "id": "v3ZxM25dXTJx",
        "outputId": "59da3069-c4c0-4dd6-d2b4-a90bf1cfb262"
      },
      "outputs": [
        {
          "output_type": "stream",
          "name": "stdout",
          "text": [
            "95\n",
            "585\n"
          ]
        }
      ],
      "source": [
        "i = int(input()) - 1\n",
        "sum = 0\n",
        "\n",
        "if i <= 100:\n",
        "  while i < 100:\n",
        "    i += 1\n",
        "    sum += i\n",
        "\n",
        "print(sum)"
      ]
    }
  ]
}