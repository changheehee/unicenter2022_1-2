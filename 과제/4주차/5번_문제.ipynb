{
  "nbformat": 4,
  "nbformat_minor": 0,
  "metadata": {
    "colab": {
      "name": "5번 문제",
      "provenance": [],
      "collapsed_sections": []
    },
    "kernelspec": {
      "name": "python3",
      "display_name": "Python 3"
    },
    "language_info": {
      "name": "python"
    }
  },
  "cells": [
    {
      "cell_type": "code",
      "execution_count": null,
      "metadata": {
        "colab": {
          "base_uri": "https://localhost:8080/"
        },
        "id": "Yn1kDQgz5I37",
        "outputId": "9936c926-5f56-4b4c-9ed5-c22c2d8c9b18"
      },
      "outputs": [
        {
          "output_type": "stream",
          "name": "stdout",
          "text": [
            "1\n",
            "2\n",
            "3\n",
            "4\n",
            "5\n",
            "6\n",
            "7\n",
            "8\n",
            "9\n",
            "10\n",
            "0\n",
            "5\n"
          ]
        }
      ],
      "source": [
        "value = 0\n",
        "sum = 0\n",
        "\n",
        "while True:\n",
        "  value = int(input())\n",
        "#실행 중지\n",
        "  if value == 0:\n",
        "    break;\n",
        "#음수를 양수로\n",
        "  if value < 0:\n",
        "    value*-1\n",
        "#0을 제외한 정수 입력 횟수를 모두 카운트\n",
        "  sum += 1\n",
        "#3과 5의 배수를 전체 카운트에서 뺀다\n",
        "  if not(value % 3) or not(value % 5):\n",
        "    sum -= 1\n",
        "\n",
        "print(sum)"
      ]
    },
    {
      "cell_type": "code",
      "source": [
        ""
      ],
      "metadata": {
        "id": "DYLs41Vh5ai-"
      },
      "execution_count": null,
      "outputs": []
    }
  ]
}