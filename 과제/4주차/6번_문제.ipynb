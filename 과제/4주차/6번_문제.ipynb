{
  "nbformat": 4,
  "nbformat_minor": 0,
  "metadata": {
    "colab": {
      "name": "6번 문제",
      "provenance": []
    },
    "kernelspec": {
      "name": "python3",
      "display_name": "Python 3"
    },
    "language_info": {
      "name": "python"
    }
  },
  "cells": [
    {
      "cell_type": "code",
      "execution_count": null,
      "metadata": {
        "colab": {
          "base_uri": "https://localhost:8080/"
        },
        "id": "Y2alEM_VGsrR",
        "outputId": "062649b1-c6ef-451d-e3a6-59e5d4c8e0a5"
      },
      "outputs": [
        {
          "name": "stdout",
          "output_type": "stream",
          "text": [
            "Base = 20\n",
            "Height = 30\n",
            "Triangle width = 300.0\n",
            "Continue? y\n",
            "Base = 2\n",
            "Height = 7\n",
            "Triangle width = 7.0\n",
            "Continue? Y\n",
            "Base = 20\n",
            "Height = 30\n",
            "Triangle width = 300.0\n",
            "Continue? nn\n"
          ]
        }
      ],
      "source": [
        "i = \"Y\"\n",
        "\n",
        "while i == \"y\" or i == \"Y\":\n",
        "  #하나의 문자가 아닐 시 종료\n",
        "  if len(i) >= 2:\n",
        "    break\n",
        "  # 넓이 계산식\n",
        "  base = int(input(\"Base = \"))\n",
        "  height = int(input(\"Height = \"))\n",
        "  print(\"Triangle width =\",(base*height)/2)\n",
        "  i = input(\"Continue? \")"
      ]
    }
  ]
}