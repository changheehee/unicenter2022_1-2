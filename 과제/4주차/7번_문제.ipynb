{
  "nbformat": 4,
  "nbformat_minor": 0,
  "metadata": {
    "colab": {
      "name": "7번 문제",
      "provenance": [],
      "collapsed_sections": []
    },
    "kernelspec": {
      "name": "python3",
      "display_name": "Python 3"
    },
    "language_info": {
      "name": "python"
    }
  },
  "cells": [
    {
      "cell_type": "code",
      "execution_count": null,
      "metadata": {
        "id": "DH0u_wBgQWz8",
        "outputId": "c5c8e82b-81c3-4434-f41d-19fea77c9d7c",
        "colab": {
          "base_uri": "https://localhost:8080/"
        }
      },
      "outputs": [
        {
          "output_type": "stream",
          "name": "stdout",
          "text": [
            "2 3 4 5 6\n",
            "3 4 5 6 7\n",
            "4 5 6 7 8\n",
            "5 6 7 8 9\n",
            "6 7 8 9 10\n"
          ]
        }
      ],
      "source": [
        "n = 0\n",
        "\n",
        "for x in range(5):\n",
        "    n += 1\n",
        "    print(1+n,2+n,3+n,4+n,5+n)"
      ]
    }
  ]
}