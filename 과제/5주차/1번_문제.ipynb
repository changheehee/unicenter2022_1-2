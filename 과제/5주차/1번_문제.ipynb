{
  "nbformat": 4,
  "nbformat_minor": 0,
  "metadata": {
    "colab": {
      "name": "1번 문제",
      "provenance": [],
      "collapsed_sections": []
    },
    "kernelspec": {
      "name": "python3",
      "display_name": "Python 3"
    },
    "language_info": {
      "name": "python"
    }
  },
  "cells": [
    {
      "cell_type": "code",
      "execution_count": null,
      "metadata": {
        "colab": {
          "base_uri": "https://localhost:8080/"
        },
        "id": "s7080ZwSQ7jj",
        "outputId": "d8e70e24-8fd6-48ee-c557-31e5275175db"
      },
      "outputs": [
        {
          "output_type": "stream",
          "name": "stdout",
          "text": [
            "100\n",
            "50 2500\n"
          ]
        }
      ],
      "source": [
        "value = 0\n",
        "n = int(input())\n",
        "count = 0\n",
        "\n",
        "for i in range(0, n+1):\n",
        "    if i % 2 != 0: \n",
        "        value += i\n",
        "        count += 1\n",
        "\n",
        "print(count,value)"
      ]
    }
  ]
}