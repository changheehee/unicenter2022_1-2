{
  "nbformat": 4,
  "nbformat_minor": 0,
  "metadata": {
    "colab": {
      "name": "2번 문제",
      "provenance": [],
      "collapsed_sections": []
    },
    "kernelspec": {
      "name": "python3",
      "display_name": "Python 3"
    },
    "language_info": {
      "name": "python"
    }
  },
  "cells": [
    {
      "cell_type": "code",
      "execution_count": null,
      "metadata": {
        "id": "nwZAI3G-YGuC",
        "colab": {
          "base_uri": "https://localhost:8080/"
        },
        "outputId": "317c381c-3a3b-4de7-8924-7199a8371368"
      },
      "outputs": [
        {
          "output_type": "stream",
          "name": "stdout",
          "text": [
            "3 5\n",
            "5 * 1 =  5   4 * 1 =  4   3 * 1 =  3   \n",
            "5 * 2 = 10   4 * 2 =  8   3 * 2 =  6   \n",
            "5 * 3 = 15   4 * 3 = 12   3 * 3 =  9   \n",
            "5 * 4 = 20   4 * 4 = 16   3 * 4 = 12   \n",
            "5 * 5 = 25   4 * 5 = 20   3 * 5 = 15   \n",
            "5 * 6 = 30   4 * 6 = 24   3 * 6 = 18   \n",
            "5 * 7 = 35   4 * 7 = 28   3 * 7 = 21   \n",
            "5 * 8 = 40   4 * 8 = 32   3 * 8 = 24   \n",
            "5 * 9 = 45   4 * 9 = 36   3 * 9 = 27   \n"
          ]
        }
      ],
      "source": [
        "num1, num2 = input().split()\n",
        "num1 = int(num1)\n",
        "num2 = int(num2)\n",
        "\n",
        "if num1 < num2:\n",
        "  temp = num1\n",
        "  num1 = num2\n",
        "  num2 = temp\n",
        "\n",
        "for i in range (1,10):\n",
        "  for dan in range(num1,num2-1,-1):\n",
        "    if dan*i <= 9:\n",
        "      print(dan,\"*\",i,\"=\",\" \"+str(dan*i), end=\"   \")\n",
        "    else:\n",
        "      print(dan,'*',i,'=',dan*i,end=\"   \")\n",
        "  print()"
      ]
    }
  ]
}