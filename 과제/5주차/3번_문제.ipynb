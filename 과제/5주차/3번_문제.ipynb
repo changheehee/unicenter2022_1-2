{
  "nbformat": 4,
  "nbformat_minor": 0,
  "metadata": {
    "colab": {
      "name": "3번 문제",
      "provenance": [],
      "collapsed_sections": []
    },
    "kernelspec": {
      "name": "python3",
      "display_name": "Python 3"
    },
    "language_info": {
      "name": "python"
    }
  },
  "cells": [
    {
      "cell_type": "code",
      "source": [
        "num1, num2 = input().split()\n",
        "num1 = int(num1)\n",
        "num2 = int(num2)\n",
        "\n",
        "for x in range (1, num1+1, 1):\n",
        "  for i in range(1,num2+1, 1):\n",
        "    print(x*i,end=\" \")\n",
        "  print(\"\\n\")"
      ],
      "metadata": {
        "colab": {
          "base_uri": "https://localhost:8080/"
        },
        "id": "mwOwCB5tcw5M",
        "outputId": "71ad830b-ab7f-47d3-e7d1-2b6ba9a1cbb3"
      },
      "execution_count": null,
      "outputs": [
        {
          "output_type": "stream",
          "name": "stdout",
          "text": [
            "3 4\n",
            "1 2 3 4 \n",
            "\n",
            "2 4 6 8 \n",
            "\n",
            "3 6 9 12 \n",
            "\n"
          ]
        }
      ]
    }
  ]
}