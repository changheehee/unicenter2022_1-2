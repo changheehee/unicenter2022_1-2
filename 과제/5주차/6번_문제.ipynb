{
  "nbformat": 4,
  "nbformat_minor": 0,
  "metadata": {
    "colab": {
      "name": "6번 문제",
      "provenance": [],
      "collapsed_sections": []
    },
    "kernelspec": {
      "name": "python3",
      "display_name": "Python 3"
    },
    "language_info": {
      "name": "python"
    }
  },
  "cells": [
    {
      "cell_type": "code",
      "execution_count": null,
      "metadata": {
        "colab": {
          "base_uri": "https://localhost:8080/"
        },
        "id": "eB-quk1xstbn",
        "outputId": "b4b5d703-e8d8-4352-c638-ac51e665523f"
      },
      "outputs": [
        {
          "output_type": "stream",
          "name": "stdout",
          "text": [
            "7\n",
            "7 14 21 28 35 42 49 56 63 70\n"
          ]
        }
      ],
      "source": [
        "value = int(input())\n",
        "\n",
        "if value >= 1 and value <= 100:\n",
        "  for i in range (value, 101, value):\n",
        "    if i%10 == 0:\n",
        "      print(i)\n",
        "      break\n",
        "    else:\n",
        "      print(i, end=\" \") "
      ]
    }
  ]
}