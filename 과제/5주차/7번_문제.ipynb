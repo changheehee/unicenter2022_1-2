{
  "nbformat": 4,
  "nbformat_minor": 0,
  "metadata": {
    "colab": {
      "name": "7번 문제",
      "provenance": [],
      "collapsed_sections": []
    },
    "kernelspec": {
      "name": "python3",
      "display_name": "Python 3"
    },
    "language_info": {
      "name": "python"
    }
  },
  "cells": [
    {
      "cell_type": "code",
      "execution_count": null,
      "metadata": {
        "colab": {
          "base_uri": "https://localhost:8080/"
        },
        "id": "DT7aI3gRvwXy",
        "outputId": "e5299ade-ac34-4936-d4b0-96bf43a77cf8"
      },
      "outputs": [
        {
          "output_type": "stream",
          "name": "stdout",
          "text": [
            "3\n",
            "    1 \n",
            "  1 2 \n",
            "1 2 3 \n"
          ]
        }
      ],
      "source": [
        "n=int(input())\n",
        "\n",
        "for i in range(1,n+1) : \n",
        "    for j in range(n-i): \n",
        "        print(\" \",end=\" \")\n",
        "    for j in range(i): \n",
        "        print(j+1,end=\" \")\n",
        "    print()"
      ]
    }
  ]
}