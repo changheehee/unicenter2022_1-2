{
  "nbformat": 4,
  "nbformat_minor": 0,
  "metadata": {
    "colab": {
      "name": "8번 문제",
      "provenance": [],
      "collapsed_sections": []
    },
    "kernelspec": {
      "name": "python3",
      "display_name": "Python 3"
    },
    "language_info": {
      "name": "python"
    }
  },
  "cells": [
    {
      "cell_type": "code",
      "execution_count": null,
      "metadata": {
        "colab": {
          "base_uri": "https://localhost:8080/"
        },
        "id": "-r35IFa4j2OP",
        "outputId": "ad1a87e1-1cba-4ed4-da55-532efe1dcd25"
      },
      "outputs": [
        {
          "output_type": "stream",
          "name": "stdout",
          "text": [
            "3\n",
            "1 2 3 \n",
            "  4 5 \n",
            "    6 \n"
          ]
        }
      ],
      "source": [
        "num = int(input())\n",
        "z = 1\n",
        "\n",
        "for i in range(num):\n",
        "  for x in range(i):\n",
        "    print(\" \",end=\" \")\n",
        "  for y in range(1,num+1-i):\n",
        "    print(z,end=\" \") \n",
        "    z += 1  \n",
        "  print()"
      ]
    }
  ]
}