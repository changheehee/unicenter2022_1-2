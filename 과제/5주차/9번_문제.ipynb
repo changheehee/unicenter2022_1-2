{
  "nbformat": 4,
  "nbformat_minor": 0,
  "metadata": {
    "colab": {
      "name": "9번 문제",
      "provenance": [],
      "collapsed_sections": []
    },
    "kernelspec": {
      "name": "python3",
      "display_name": "Python 3"
    },
    "language_info": {
      "name": "python"
    }
  },
  "cells": [
    {
      "cell_type": "code",
      "execution_count": null,
      "metadata": {
        "colab": {
          "base_uri": "https://localhost:8080/"
        },
        "id": "nOlPRVG8kS-M",
        "outputId": "18ff587d-a9db-450c-8e50-5f8dc1e8c067"
      },
      "outputs": [
        {
          "output_type": "stream",
          "name": "stdout",
          "text": [
            "3\n",
            "1 3 5 \n",
            "7 9 1 \n",
            "3 5 7 \n"
          ]
        }
      ],
      "source": [
        "num = int(input())\n",
        "z = 1\n",
        "\n",
        "for i in range(num):\n",
        "  for y in range(1,num+1):\n",
        "    if z >= 10:\n",
        "      print(z%10,end=\" \")\n",
        "    else:\n",
        "      print(z,end=\" \") \n",
        "    z += 2  \n",
        "  print()"
      ]
    }
  ]
}