{
  "nbformat": 4,
  "nbformat_minor": 0,
  "metadata": {
    "colab": {
      "name": "수업 1회차",
      "provenance": [],
      "collapsed_sections": [],
      "authorship_tag": "ABX9TyOyOad1/9j5gbJ5277Icf3P",
      "include_colab_link": true
    },
    "kernelspec": {
      "name": "python3",
      "display_name": "Python 3"
    },
    "language_info": {
      "name": "python"
    }
  },
  "cells": [
    {
      "cell_type": "markdown",
      "metadata": {
        "id": "view-in-github",
        "colab_type": "text"
      },
      "source": [
        "<a href=\"https://colab.research.google.com/github/changheehee/unicenter2022_1-2/blob/main/%EC%88%98%EC%97%85_1%ED%9A%8C%EC%B0%A8.ipynb\" target=\"_parent\"><img src=\"https://colab.research.google.com/assets/colab-badge.svg\" alt=\"Open In Colab\"/></a>"
      ]
    },
    {
      "cell_type": "code",
      "execution_count": null,
      "metadata": {
        "colab": {
          "base_uri": "https://localhost:8080/"
        },
        "id": "xsO2v114Jpn9",
        "outputId": "a60b404c-071f-4540-d170-9e8973f415d4"
      },
      "outputs": [
        {
          "output_type": "stream",
          "name": "stdout",
          "text": [
            "Hello World\n"
          ]
        }
      ],
      "source": [
        "print (\"Hello World\")"
      ]
    },
    {
      "cell_type": "code",
      "source": [
        "s = 12 + 23\n",
        "box1 = 10\n",
        "box2 = 40\n",
        "print(box1 , s)"
      ],
      "metadata": {
        "colab": {
          "base_uri": "https://localhost:8080/"
        },
        "id": "XV2bCNdcLhSI",
        "outputId": "7a82803a-66d2-453e-8837-d2da6eab3918"
      },
      "execution_count": null,
      "outputs": [
        {
          "output_type": "stream",
          "name": "stdout",
          "text": [
            "10 35\n"
          ]
        }
      ]
    },
    {
      "cell_type": "code",
      "source": [
        "print (box1 + box2)"
      ],
      "metadata": {
        "colab": {
          "base_uri": "https://localhost:8080/"
        },
        "id": "MZLpn8UwMSeJ",
        "outputId": "5df02e07-c43c-40bf-c69f-5cc87da937db"
      },
      "execution_count": 17,
      "outputs": [
        {
          "output_type": "stream",
          "name": "stdout",
          "text": [
            "50\n"
          ]
        }
      ]
    },
    {
      "cell_type": "code",
      "source": [
        "print(\"결과값은\",2*7,\"입니다.\")"
      ],
      "metadata": {
        "colab": {
          "base_uri": "https://localhost:8080/"
        },
        "id": "YSQqELmCVrSE",
        "outputId": "43fa1477-d665-4308-da5c-6d2702a80304"
      },
      "execution_count": 22,
      "outputs": [
        {
          "output_type": "stream",
          "name": "stdout",
          "text": [
            "결과값은 14 입니다.\n"
          ]
        }
      ]
    },
    {
      "cell_type": "code",
      "source": [
        "print(\"2와 7의 곱은\",2*7,\"입니다.\")\n",
        "print(\"2와 7의 곱은,2*7,입니다.\")"
      ],
      "metadata": {
        "colab": {
          "base_uri": "https://localhost:8080/"
        },
        "id": "Hcz_9dUKWHMR",
        "outputId": "3081707b-f136-42a1-8b11-e358a0c41c7c"
      },
      "execution_count": 29,
      "outputs": [
        {
          "output_type": "stream",
          "name": "stdout",
          "text": [
            "2와 7의 곱은 14 입니다.\n",
            "2와 7의 곱은,2*7,입니다.\n"
          ]
        }
      ]
    },
    {
      "cell_type": "code",
      "source": [
        "ftemp = 70\n",
        "ctemp = (ftemp-32.0)*5.0/9.0\n",
        "if ctemp > 20 :\n",
        " print(ctemp, \"더워요\")\n",
        "if ctemp < 20 :\n",
        " print(ctemp, \"추워요\")  "
      ],
      "metadata": {
        "colab": {
          "base_uri": "https://localhost:8080/"
        },
        "id": "YrmKolDXX70e",
        "outputId": "bc5bf24a-3332-43fe-e81a-9863c6337700"
      },
      "execution_count": 38,
      "outputs": [
        {
          "output_type": "stream",
          "name": "stdout",
          "text": [
            "21.11111111111111 더워요\n"
          ]
        }
      ]
    },
    {
      "cell_type": "code",
      "source": [
        "print ('''안녕하세요? 여러분. \n",
        "저는 파이썬을 무척 좋아합니다. \n",
        "9*8은''',9*8,\"입니다.\")\n",
        "print (\"안녕히 계세요.\")"
      ],
      "metadata": {
        "colab": {
          "base_uri": "https://localhost:8080/"
        },
        "id": "WCQ9mu6jYi6o",
        "outputId": "82967740-cb0a-49ec-90bf-97175a1e0383"
      },
      "execution_count": 46,
      "outputs": [
        {
          "output_type": "stream",
          "name": "stdout",
          "text": [
            "안녕하세요? 여러분. \n",
            "저는 파이썬을 무척 좋아합니다. \n",
            "9*8은 72 입니다.\n",
            "안녕히 계세요.\n"
          ]
        }
      ]
    }
  ]
}