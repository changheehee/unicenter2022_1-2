{
  "nbformat": 4,
  "nbformat_minor": 0,
  "metadata": {
    "colab": {
      "name": "수업 2주차",
      "provenance": [],
      "collapsed_sections": [],
      "authorship_tag": "ABX9TyNAtcDTmAQbw9BF8Bio8+8C",
      "include_colab_link": true
    },
    "kernelspec": {
      "name": "python3",
      "display_name": "Python 3"
    },
    "language_info": {
      "name": "python"
    }
  },
  "cells": [
    {
      "cell_type": "markdown",
      "metadata": {
        "id": "view-in-github",
        "colab_type": "text"
      },
      "source": [
        "<a href=\"https://colab.research.google.com/github/changheehee/unicenter2022_1-2/blob/%EC%88%98%EC%97%85/%EC%88%98%EC%97%85_2%EC%A3%BC%EC%B0%A8.ipynb\" target=\"_parent\"><img src=\"https://colab.research.google.com/assets/colab-badge.svg\" alt=\"Open In Colab\"/></a>"
      ]
    },
    {
      "cell_type": "markdown",
      "source": [
        "# **<변수>**\n",
        "\n",
        "# ▶ = 는 assign 연산자이다.\n",
        "# ▶ 한 변수에는 1개의 값만, 고로 기존 변수에 새 값을 넣으면 덮어 쓰여진다.\n",
        "# ▶ print(score)가 아닌 score만 할 땐, 이후 추가적인 코드가 들어오면 값이 나오지 않는다.\n",
        "# ▶ 변수의 이름은 의미 있는 이름을 사용\n",
        "# ▶ 소문자와 대문자는 다르게 취급\n",
        "# ▶ 변수의 이름은 영문자/ 숫자/ 밑줄(_)로 구성\n",
        "# ▶ 이름에서 처음은 숫자로 하거나 특수문자는 불가능"
      ],
      "metadata": {
        "id": "Osl3LjPjFv_v"
      }
    },
    {
      "cell_type": "code",
      "source": [
        "# 임시적인 값 보여주는 방식. score = 30 를 넣으니 화면에 값이 나오지 않는다.\n",
        "\n",
        "score = 20\n",
        "score\n",
        "score = 30"
      ],
      "metadata": {
        "id": "O5CuHCTIFc6Z"
      },
      "execution_count": null,
      "outputs": []
    },
    {
      "cell_type": "code",
      "source": [
        "# 프린트를 통한 변수 값을 화면에 내보내기\n",
        "\n",
        "score = 20\n",
        "print(score)\n",
        "print = 30"
      ],
      "metadata": {
        "colab": {
          "base_uri": "https://localhost:8080/"
        },
        "id": "H8V6pbdQFiNQ",
        "outputId": "9334a9b9-2aa1-4019-a122-84847b919bb6"
      },
      "execution_count": null,
      "outputs": [
        {
          "output_type": "stream",
          "name": "stdout",
          "text": [
            "20\n"
          ]
        }
      ]
    },
    {
      "cell_type": "code",
      "source": [
        "# 덮어쓰임\n",
        "\n",
        "score = 20\n",
        "score = 30\n",
        "score"
      ],
      "metadata": {
        "colab": {
          "base_uri": "https://localhost:8080/"
        },
        "id": "-MACs5MuGAS_",
        "outputId": "ecc883a7-e6a4-4aaf-c180-bd19800155cc"
      },
      "execution_count": null,
      "outputs": [
        {
          "output_type": "execute_result",
          "data": {
            "text/plain": [
              "30"
            ]
          },
          "metadata": {},
          "execution_count": 5
        }
      ]
    },
    {
      "cell_type": "code",
      "source": [
        "# 변수와 변수의 곱을 통해 넓이를 구하는 코드를 만들었다.\n",
        "\n",
        "width = 10\n",
        "height = 20\n",
        "area = width * height\n",
        "print(area)"
      ],
      "metadata": {
        "colab": {
          "base_uri": "https://localhost:8080/"
        },
        "id": "C0m4Gmx1GhTw",
        "outputId": "c5680f75-27c3-4bda-84e0-81298bba28a3"
      },
      "execution_count": null,
      "outputs": [
        {
          "output_type": "stream",
          "name": "stdout",
          "text": [
            "200\n"
          ]
        }
      ]
    },
    {
      "cell_type": "code",
      "source": [
        "# s는 변수, 'abc'는 문자열이자 변수에 대입된 값, print를 통해 s를 화면 상에 출력  \n",
        "\n",
        "s = '안녕하세요?'\n",
        "print(s)\n",
        "\n",
        "pi = 3.141592\n",
        "print(pi)"
      ],
      "metadata": {
        "id": "0rkafKXPJd-Y"
      },
      "execution_count": null,
      "outputs": []
    },
    {
      "cell_type": "code",
      "source": [
        "# 활용 예시 1\n",
        "# sep=''로 빈칸을 없앨 수 있다.\n",
        "\n",
        "num_people = int(input())\n",
        "chicken = num_people * 1\n",
        "beer = num_people * 2\n",
        "cake = num_people * 4\n",
        "print(\"참석자의 수를 입력하시오:\", num_people, sep='')\n",
        "print(\"치킨의 수:\",chicken, end=\", \")\n",
        "print(\"맥주의 수:\",beer, end=\", \")\n",
        "print(\"케익의 수:\",cake)"
      ],
      "metadata": {
        "colab": {
          "base_uri": "https://localhost:8080/"
        },
        "id": "WSBE8kVEKUm3",
        "outputId": "a87ce6a2-1c57-4cd4-d245-4d2e71126bef"
      },
      "execution_count": null,
      "outputs": [
        {
          "output_type": "stream",
          "name": "stdout",
          "text": [
            "100\n",
            "참석자의 수를 입력하시오:100\n",
            "치킨의 수: 100, 맥주의 수: 200, 케익의 수: 400\n"
          ]
        }
      ]
    },
    {
      "cell_type": "markdown",
      "source": [
        "# **<변수 값 교환>**"
      ],
      "metadata": {
        "id": "LJnB9tzVPyfW"
      }
    },
    {
      "cell_type": "code",
      "source": [
        "# 변수 값 교환의 잘못된 예\n",
        "# 위에서부터 아래로 진행되는 프로그래밍의 순서를 간과한 것\n",
        "\n",
        "x = 10\n",
        "y = 20\n",
        "print(x,y)\n",
        "x = y\n",
        "y = x\n",
        "print(x,y)\n",
        "\n",
        "print(\"________________________________\\n\")\n",
        "\n",
        "x = 10\n",
        "y = 20\n",
        "print(x,y)\n",
        "y = x\n",
        "x = y\n",
        "print(x,y)"
      ],
      "metadata": {
        "colab": {
          "base_uri": "https://localhost:8080/"
        },
        "id": "-ibIbbp7Ou_0",
        "outputId": "71e9d012-7b70-4dcc-db9a-33c714ff85bc"
      },
      "execution_count": null,
      "outputs": [
        {
          "output_type": "stream",
          "name": "stdout",
          "text": [
            "10 20\n",
            "20 20\n",
            "________________________________\n",
            "\n",
            "10 20\n",
            "10 10\n"
          ]
        }
      ]
    },
    {
      "cell_type": "code",
      "source": [
        "# 제 3의 변수를 생성 후 x 값을 대입한다. \n",
        "# 이후 x에 y 값을 넣은 후, y에 제 3의 변수의 값(temp에 복사된 x의 값)이 들어간다.\n",
        "\n",
        "x = 10\n",
        "y = 20\n",
        "\n",
        "temp = x\n",
        "x = y\n",
        "y = temp\n",
        "\n",
        "print(x,y)"
      ],
      "metadata": {
        "colab": {
          "base_uri": "https://localhost:8080/"
        },
        "id": "T37EbPGFRE3R",
        "outputId": "ff4211f4-aa8e-48b1-b4d9-f1c627f4de64"
      },
      "execution_count": null,
      "outputs": [
        {
          "output_type": "stream",
          "name": "stdout",
          "text": [
            "20 10\n"
          ]
        }
      ]
    },
    {
      "cell_type": "code",
      "source": [
        "# 위 방법을 내부적으로 처리해준 것이 8번째 x , y = y , x 코드이다.\n",
        "# 고로 한 코드로 교환이 가능하다.\n",
        "\n",
        "x = 30\n",
        "y = 100\n",
        "print(x,y)\n",
        "\n",
        "x , y = y , x\n",
        "\n",
        "print(x,y)"
      ],
      "metadata": {
        "colab": {
          "base_uri": "https://localhost:8080/"
        },
        "id": "3Yp57sXVSd9V",
        "outputId": "f2bf8fc5-65c6-4d1e-a8d0-e587fa9eeb9e"
      },
      "execution_count": null,
      "outputs": [
        {
          "output_type": "stream",
          "name": "stdout",
          "text": [
            "30 100\n",
            "100 30\n"
          ]
        }
      ]
    },
    {
      "cell_type": "code",
      "source": [
        "# 정수 = int\n",
        "# 실수 = float, double\n",
        "# \"\",'' 속에 있는 문자나 숫자 = 문자열\n",
        "\n",
        "# True / False = 논리값 = boolean\n",
        "# True = 1 / False = 0\n",
        "\n",
        "# ctrl + / 는 주석으로 만드는/취소하는 단축키"
      ],
      "metadata": {
        "id": "XvqQnj5_UWrW"
      },
      "execution_count": null,
      "outputs": []
    },
    {
      "cell_type": "markdown",
      "source": [
        "# **활용 예시**"
      ],
      "metadata": {
        "id": "npL9s_lRj9o-"
      }
    },
    {
      "cell_type": "code",
      "source": [
        "#시간 계산도 가능\n",
        "\n",
        "sec = 3734\n",
        "hour = sec // 3600\n",
        "minute = (sec % 3600) // 60\n",
        "remains = (sec % 3600) % 60\n",
        "\n",
        "print(sec,'sec = ', hour,'h',minute,'m', remains,'s',sep ='')"
      ],
      "metadata": {
        "colab": {
          "base_uri": "https://localhost:8080/"
        },
        "id": "-36fNeUfZpwR",
        "outputId": "342ed8f1-59ff-4d14-ee15-dd661b070de6"
      },
      "execution_count": null,
      "outputs": [
        {
          "output_type": "stream",
          "name": "stdout",
          "text": [
            "3734sec = 1h2m14s\n"
          ]
        }
      ]
    },
    {
      "cell_type": "code",
      "source": [
        "myMoney = 5000;\n",
        "candyPrice = 120;\n",
        "\n",
        "# 최대한 살 수 있는 사탕 수\n",
        "\n",
        "numCandies = myMoney//candyPrice\n",
        "print(\"살 수 있는 사탕 수는:\",numCandies)\n",
        "\n",
        "# 최대한 사탕을 구입하고 남은 돈\n",
        "\n",
        "change = myMoney % candyPrice;\n",
        "print(\"잔돈 금액은:\",change)"
      ],
      "metadata": {
        "colab": {
          "base_uri": "https://localhost:8080/"
        },
        "id": "rlL-M4fGi6pQ",
        "outputId": "8fe65236-ff76-4fd6-dbc9-3f5041efbe5e"
      },
      "execution_count": null,
      "outputs": [
        {
          "output_type": "stream",
          "name": "stdout",
          "text": [
            "살 수 있는 사탕 수는: 41\n",
            "잔돈 금액은: 80\n"
          ]
        }
      ]
    },
    {
      "cell_type": "code",
      "source": [
        "x = 2\n",
        "y = 3 * x**2 + 7 * x + 9\n",
        "print(y)"
      ],
      "metadata": {
        "colab": {
          "base_uri": "https://localhost:8080/"
        },
        "id": "BlelJSrUjjxQ",
        "outputId": "4636e836-c41d-477b-94bb-66583afca9e4"
      },
      "execution_count": null,
      "outputs": [
        {
          "output_type": "stream",
          "name": "stdout",
          "text": [
            "35\n"
          ]
        }
      ]
    },
    {
      "cell_type": "markdown",
      "source": [
        "#**<함수 호출>** \n",
        "\n",
        "#▶ 작업을 담당하는 명령어\n",
        "#▶ 기본 제공되는 내장 함수가 많음"
      ],
      "metadata": {
        "id": "unB05BFLkH7f"
      }
    },
    {
      "cell_type": "code",
      "source": [
        "# abs() 절대값, round() 반올림, max() 최댓값, min() 최솟값\n",
        "from math import *\n",
        "sqrt(4.0) #제곱근"
      ],
      "metadata": {
        "colab": {
          "base_uri": "https://localhost:8080/"
        },
        "id": "ZUOOm9uqkOHG",
        "outputId": "c023e29b-d6ab-415a-b0ec-915aec9d34ad"
      },
      "execution_count": null,
      "outputs": [
        {
          "output_type": "execute_result",
          "data": {
            "text/plain": [
              "2.0"
            ]
          },
          "metadata": {},
          "execution_count": 11
        }
      ]
    },
    {
      "cell_type": "code",
      "source": [
        "from math import *\n",
        "time1 = 10/20\n",
        "height = sqrt(3**2+4**2)\n",
        "time2 = height/10\n",
        "time3 = height/30\n",
        "time4 = 8/20\n",
        "total = time1+time2+time3+time4\n",
        "print(total)"
      ],
      "metadata": {
        "colab": {
          "base_uri": "https://localhost:8080/"
        },
        "id": "g8zbnfOclpkH",
        "outputId": "227888c8-5692-4d13-9b75-0c59f083a75a"
      },
      "execution_count": null,
      "outputs": [
        {
          "output_type": "stream",
          "name": "stdout",
          "text": [
            "1.5666666666666669\n"
          ]
        }
      ]
    },
    {
      "cell_type": "markdown",
      "source": [
        "# **<input() 함수>**"
      ],
      "metadata": {
        "id": "OmUHBlT3owgV"
      }
    },
    {
      "cell_type": "code",
      "source": [
        "name = input(\"이름을 입력해주세요: \")\n",
        "print(\"빈갑습니다\",name+\"씨!\")\n",
        "age = input(\"나이는요?: \")\n",
        "print(\"네, 나이는\", age+\"살이고 이름은\",name+\"씨군요\")"
      ],
      "metadata": {
        "colab": {
          "base_uri": "https://localhost:8080/"
        },
        "id": "wIVDfYSEqXL1",
        "outputId": "0f0651c1-57ea-4955-bab1-fe0cfd9ecdb7"
      },
      "execution_count": null,
      "outputs": [
        {
          "output_type": "stream",
          "name": "stdout",
          "text": [
            "이름을 입력해주세요: 정창희\n",
            "빈갑습니다 정창희씨!\n",
            "나이는요?: 15\n",
            "네, 나이는 15살이고 이름은 정창희씨군요\n"
          ]
        }
      ]
    },
    {
      "cell_type": "code",
      "source": [
        "x = int(input(\"첫번째 정수: \"))\n",
        "y = int(input(\"두번째 정수: \"))\n",
        "sum = x + y \n",
        "print(\"합은\",sum)"
      ],
      "metadata": {
        "colab": {
          "base_uri": "https://localhost:8080/"
        },
        "id": "uXHSUhZ5rd_t",
        "outputId": "14fa4bbd-7057-4ec3-882b-3dc4751b933f"
      },
      "execution_count": null,
      "outputs": [
        {
          "output_type": "stream",
          "name": "stdout",
          "text": [
            "첫번째 정수: 10\n",
            "두번째 정수: 20\n",
            "합은 30\n"
          ]
        }
      ]
    },
    {
      "cell_type": "code",
      "source": [
        "redius = int(input(\"반지름을 입력하시오: \"))\n",
        "\n",
        "volume = 4/3 * pi * redius ** 3\n",
        "print (volume)"
      ],
      "metadata": {
        "colab": {
          "base_uri": "https://localhost:8080/"
        },
        "id": "bugVqRGmtyZ0",
        "outputId": "4368f9dd-f828-4462-983c-60466b321345"
      },
      "execution_count": null,
      "outputs": [
        {
          "output_type": "stream",
          "name": "stdout",
          "text": [
            "반지름을 입력하시오: 5\n",
            "523.5987755982989\n"
          ]
        }
      ]
    },
    {
      "cell_type": "code",
      "source": [
        ""
      ],
      "metadata": {
        "id": "pFyYyjWn0PZq"
      },
      "execution_count": null,
      "outputs": []
    }
  ]
}